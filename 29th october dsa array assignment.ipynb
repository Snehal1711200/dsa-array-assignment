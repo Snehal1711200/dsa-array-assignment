{
 "cells": [
  {
   "cell_type": "code",
   "execution_count": 1,
   "id": "316e18ff-3e88-4c7d-8130-937ca319267e",
   "metadata": {},
   "outputs": [
    {
     "data": {
      "text/plain": [
       "'a array does contain any dublicate element'"
      ]
     },
     "execution_count": 1,
     "metadata": {},
     "output_type": "execute_result"
    }
   ],
   "source": [
    "#check if array containg dublicates\n",
    "def check_dublicates(arr):\n",
    "    if len(arr) == len(set(arr)):\n",
    "        return 'a array does not contain any dublicate element'\n",
    "    else:\n",
    "        return 'a array does contain any dublicate element'\n",
    "#driver code\n",
    "arr = [1,2,4,2,5,9]\n",
    "check_dublicates(arr)   "
   ]
  },
  {
   "cell_type": "code",
   "execution_count": 6,
   "id": "28494d3e-7be2-43b1-bbde-b08cb3e472cf",
   "metadata": {},
   "outputs": [
    {
     "data": {
      "text/plain": [
       "[5, 6, 7, 1, 2, 3, 4]"
      ]
     },
     "execution_count": 6,
     "metadata": {},
     "output_type": "execute_result"
    }
   ],
   "source": [
    "# rotate a array k=3 steps\n",
    "def rotate_arr_atany_position(arr, k):\n",
    "    n = len(arr)\n",
    "    rotated_arr = arr[k+1:n+1]+ arr[0:k+1]\n",
    "    return rotated_arr\n",
    "#driver code\n",
    "arr = [1,2,3,4,5,6,7]\n",
    "rotate_arr_atany_position(arr, 3)    "
   ]
  },
  {
   "cell_type": "code",
   "execution_count": 7,
   "id": "b10ac30a-ede9-43b8-8e30-f280f8600630",
   "metadata": {},
   "outputs": [
    {
     "data": {
      "text/plain": [
       "[12, 9, 7, 5, 4, 2]"
      ]
     },
     "execution_count": 7,
     "metadata": {},
     "output_type": "execute_result"
    }
   ],
   "source": [
    "# rotate a array\n",
    "def rotate_arr(arr):\n",
    "    rotated_arr = arr[::-1]\n",
    "    return rotated_arr\n",
    "#driver code\n",
    "arr = [2,4,5,7,9,12]\n",
    "rotate_arr(arr)    "
   ]
  },
  {
   "cell_type": "code",
   "execution_count": null,
   "id": "b209afce-f66e-4563-8595-a04e4fa032dd",
   "metadata": {},
   "outputs": [],
   "source": [
    "def max_element(arr):\n",
    "    "
   ]
  }
 ],
 "metadata": {
  "kernelspec": {
   "display_name": "Python 3 (ipykernel)",
   "language": "python",
   "name": "python3"
  },
  "language_info": {
   "codemirror_mode": {
    "name": "ipython",
    "version": 3
   },
   "file_extension": ".py",
   "mimetype": "text/x-python",
   "name": "python",
   "nbconvert_exporter": "python",
   "pygments_lexer": "ipython3",
   "version": "3.10.8"
  }
 },
 "nbformat": 4,
 "nbformat_minor": 5
}
